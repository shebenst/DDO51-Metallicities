{
 "cells": [
  {
   "cell_type": "code",
   "execution_count": 2,
   "metadata": {
    "collapsed": true
   },
   "outputs": [],
   "source": [
    "# To load data into python:\n",
    "from astropy.io import fits\n",
    "import numpy as np\n",
    "#Import DDO51 photometric data\n",
    "phot = fits.getdata('E:\\OneDrive\\School\\Graduate\\Research\\Fall 2017\\Data\\munn_giants.fits',1)"
   ]
  },
  {
   "cell_type": "code",
   "execution_count": 3,
   "metadata": {},
   "outputs": [
    {
     "data": {
      "text/plain": [
       "ColDefs(\n",
       "    name = 'OBJID'; format = 'K'\n",
       "    name = 'FIELD'; format = '12A'\n",
       "    name = 'NIGHT'; format = '7A'\n",
       "    name = 'IMAGE'; format = 'J'\n",
       "    name = 'CHIP'; format = 'J'\n",
       "    name = 'RA'; format = 'D'\n",
       "    name = 'DEC'; format = 'D'\n",
       "    name = 'G'; format = 'E'\n",
       "    name = 'GERR'; format = 'E'\n",
       "    name = 'R'; format = 'E'\n",
       "    name = 'RERR'; format = 'E'\n",
       "    name = 'I'; format = 'E'\n",
       "    name = 'IERR'; format = 'E'\n",
       "    name = 'RAWD'; format = 'E'\n",
       "    name = 'RAWDERR'; format = 'E'\n",
       "    name = 'D'; format = 'E'\n",
       "    name = 'DERR'; format = 'E'\n",
       "    name = 'AG'; format = 'E'\n",
       "    name = 'AR'; format = 'E'\n",
       "    name = 'AI'; format = 'E'\n",
       "    name = 'AD'; format = 'E'\n",
       "    name = 'GI0CORR'; format = 'E'\n",
       "    name = 'GD0CORR'; format = 'E'\n",
       "    name = 'DELTA_GD'; format = 'E'\n",
       "    name = 'GISHIFT'; format = 'E'\n",
       "    name = 'GDSHIFT'; format = 'E'\n",
       "    name = 'MT'; format = 'E'\n",
       "    name = 'MD'; format = 'E'\n",
       "    name = 'MT0'; format = 'E'\n",
       "    name = 'MD0'; format = 'E'\n",
       "    name = 'MT0CORR'; format = 'E'\n",
       "    name = 'MD0CORR'; format = 'E'\n",
       "    name = 'M0'; format = 'E'\n",
       "    name = 'M'; format = 'E'\n",
       "    name = 'MERR'; format = 'E'\n",
       "    name = 'T0'; format = 'E'\n",
       "    name = 'T'; format = 'E'\n",
       "    name = 'TERR'; format = 'E'\n",
       "    name = 'GLON'; format = 'E'\n",
       "    name = 'GLAT'; format = 'E'\n",
       ")"
      ]
     },
     "execution_count": 3,
     "metadata": {},
     "output_type": "execute_result"
    }
   ],
   "source": [
    "# list of columns\n",
    "phot.columns"
   ]
  },
  {
   "cell_type": "code",
   "execution_count": 4,
   "metadata": {},
   "outputs": [
    {
     "data": {
      "text/plain": [
       "array([ 0.97360134,  1.22792625,  1.12860107, ...,  1.22351265,\n",
       "        1.63306618,  0.86245537], dtype=float32)"
      ]
     },
     "execution_count": 4,
     "metadata": {},
     "output_type": "execute_result"
    }
   ],
   "source": [
    "# access single column\n",
    "phot['GI0CORR']"
   ]
  },
  {
   "cell_type": "code",
   "execution_count": 5,
   "metadata": {},
   "outputs": [
    {
     "data": {
      "text/plain": [
       "array([ 358.04972136,  358.2048399 ,  358.37586392,  358.45742414,\n",
       "        359.20066076,  358.7262268 ,  358.77736903,  358.7565599 ,\n",
       "        358.85310964,  359.26160692,  359.22984718,  355.35440036,\n",
       "        355.52289926,  355.79150366,  355.69870385,  355.40451999,\n",
       "        356.47916247,  356.49202368,  356.43130167,  356.59842069,\n",
       "        356.51527709,  356.20503655,  356.46199304,  356.52674325,\n",
       "         12.98465064,   12.86181806,   12.91474645,   13.10978547,\n",
       "         12.85053446,   12.81987244,   12.9244214 ,   13.07923257,\n",
       "         12.98006719,   13.32569163,   13.29661398,   13.57170999,\n",
       "         13.86084497,   20.81778806,   20.85618016,   21.26148061,\n",
       "         20.83313088,   20.98026892,   21.2118259 ,   22.04372551,\n",
       "         22.10252294,   26.20957219,   26.51123916,   26.44875687,\n",
       "         26.32636175,   26.27826327,   26.68629019,   26.83117682,\n",
       "         26.83048839,   27.37925537,   27.44028974,   27.26943335,\n",
       "         27.20478666,   27.37308299,   31.64423125,   31.70905955,\n",
       "         31.77410675,   31.90186107,   32.01485032,   31.76485902,\n",
       "         32.73352544,   32.17149841,   32.32170263,   32.39470511,\n",
       "         32.60018867,   39.94631841,   39.87176279,   39.41617351,\n",
       "         39.64402981,   39.53121874,   40.07880704,   39.92136367,\n",
       "         39.86993337,   40.36258207,   40.50623064,   40.50334933,\n",
       "         40.7167961 ,   40.44238371,   40.83077499,   40.80572344,\n",
       "         40.68601719,   40.590354  ,   40.40567886,   40.67824922,\n",
       "         40.69122341,   40.64420791,   40.75230047,   44.92154947,\n",
       "         45.02253541,   45.09333813,   44.81359814,   45.41528531,\n",
       "         44.93076118,   44.9832664 ,   46.05893496,   45.90269783])"
      ]
     },
     "execution_count": 5,
     "metadata": {},
     "output_type": "execute_result"
    }
   ],
   "source": [
    "# can also subscript\n",
    "phot['ra'][100:200]"
   ]
  },
  {
   "cell_type": "code",
   "execution_count": 6,
   "metadata": {},
   "outputs": [],
   "source": [
    "#Import calibration data and define variable spec\n",
    "spec = fits.getdata('E:\\OneDrive\\School\\Graduate\\Research\\Fall 2017\\Data\\Ho2017_Catalog.fits',1)"
   ]
  },
  {
   "cell_type": "code",
   "execution_count": 11,
   "metadata": {},
   "outputs": [],
   "source": [
    "#Cross-matching\n",
    "from astropy.coordinates import SkyCoord\n",
    "from astropy import units as u\n",
    "c_phot=SkyCoord(ra=phot['ra']*u.degree,dec=phot['dec']*u.degree)\n",
    "c_spec=SkyCoord(ra=spec['RA']*u.degree,dec=spec['Dec']*u.degree)\n",
    "idx, d2d, d3d = c_phot.match_to_catalog_sky(c_spec) \n",
    "good=(d2d.arcsec < 1)\n",
    "\n",
    "spec2 = fits.getdata('E:\\OneDrive\\School\\Graduate\\Research\\Fall 2017\\Data\\ssppOut-dr10.fits.gz',1)\n",
    "c_spec2=SkyCoord(ra=spec2['plug_ra']*u.degree,dec=spec2['plug_dec']*u.degree)\n",
    "idx, d2d, d3d = c_phot.match_to_catalog_sky(c_spec2) \n",
    "good=(d2d.arcsec < 0.5)"
   ]
  },
  {
   "cell_type": "code",
   "execution_count": 12,
   "metadata": {},
   "outputs": [
    {
     "data": {
      "image/png": "[encoded data removed]",
      "text/plain": [
       "<matplotlib.figure.Figure at 0x14242efc860>"
      ]
     },
     "metadata": {},
     "output_type": "display_data"
    }
   ],
   "source": [
    "#Plotting\n",
    "import matplotlib.pyplot as plt\n",
    "plt.scatter(phot['ra'],phot['dec'],marker='+',c='red')\n",
    "plt.scatter(spec['RA'],spec['Dec'],marker='o',c='green')\n",
    "plt.show()"
   ]
  },
  {
   "cell_type": "code",
   "execution_count": null,
   "metadata": {
    "collapsed": true
   },
   "outputs": [],
   "source": []
  }
 ],
 "metadata": {
  "kernelspec": {
   "display_name": "Python 3",
   "language": "python",
   "name": "python3"
  },
  "language_info": {
   "codemirror_mode": {
    "name": "ipython",
    "version": 3
   },
   "file_extension": ".py",
   "mimetype": "text/x-python",
   "name": "python",
   "nbconvert_exporter": "python",
   "pygments_lexer": "ipython3",
   "version": "3.6.2"
  }
 },
 "nbformat": 4,
 "nbformat_minor": 2
}
