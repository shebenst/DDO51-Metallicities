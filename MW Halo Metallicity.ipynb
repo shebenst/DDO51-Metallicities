{
 "cells": [
  {
   "cell_type": "code",
   "execution_count": 3,
   "metadata": {},
   "outputs": [],
   "source": [
    "# To load data into python:\n",
    "from astropy.io import fits\n",
    "import numpy as np\n",
    "#Import DDO51 photometric data\n",
    "phot = fits.getdata('E:\\OneDrive\\School\\Graduate\\Research\\Fall 2017\\Data\\munn_giants.fits',1)"
   ]
  },
  {
   "cell_type": "code",
   "execution_count": 4,
   "metadata": {},
   "outputs": [
    {
     "data": {
      "text/plain": [
       "ColDefs(\n",
       "    name = 'OBJID'; format = 'K'\n",
       "    name = 'FIELD'; format = '12A'\n",
       "    name = 'NIGHT'; format = '7A'\n",
       "    name = 'IMAGE'; format = 'J'\n",
       "    name = 'CHIP'; format = 'J'\n",
       "    name = 'RA'; format = 'D'\n",
       "    name = 'DEC'; format = 'D'\n",
       "    name = 'G'; format = 'E'\n",
       "    name = 'GERR'; format = 'E'\n",
       "    name = 'R'; format = 'E'\n",
       "    name = 'RERR'; format = 'E'\n",
       "    name = 'I'; format = 'E'\n",
       "    name = 'IERR'; format = 'E'\n",
       "    name = 'RAWD'; format = 'E'\n",
       "    name = 'RAWDERR'; format = 'E'\n",
       "    name = 'D'; format = 'E'\n",
       "    name = 'DERR'; format = 'E'\n",
       "    name = 'AG'; format = 'E'\n",
       "    name = 'AR'; format = 'E'\n",
       "    name = 'AI'; format = 'E'\n",
       "    name = 'AD'; format = 'E'\n",
       "    name = 'GI0CORR'; format = 'E'\n",
       "    name = 'GD0CORR'; format = 'E'\n",
       "    name = 'DELTA_GD'; format = 'E'\n",
       "    name = 'GISHIFT'; format = 'E'\n",
       "    name = 'GDSHIFT'; format = 'E'\n",
       "    name = 'MT'; format = 'E'\n",
       "    name = 'MD'; format = 'E'\n",
       "    name = 'MT0'; format = 'E'\n",
       "    name = 'MD0'; format = 'E'\n",
       "    name = 'MT0CORR'; format = 'E'\n",
       "    name = 'MD0CORR'; format = 'E'\n",
       "    name = 'M0'; format = 'E'\n",
       "    name = 'M'; format = 'E'\n",
       "    name = 'MERR'; format = 'E'\n",
       "    name = 'T0'; format = 'E'\n",
       "    name = 'T'; format = 'E'\n",
       "    name = 'TERR'; format = 'E'\n",
       "    name = 'GLON'; format = 'E'\n",
       "    name = 'GLAT'; format = 'E'\n",
       ")"
      ]
     },
     "execution_count": 4,
     "metadata": {},
     "output_type": "execute_result"
    }
   ],
   "source": [
    "# list of columns\n",
    "phot.columns"
   ]
  },
  {
   "cell_type": "code",
   "execution_count": 6,
   "metadata": {},
   "outputs": [
    {
     "data": {
      "text/plain": [
       "array([ 0.97360134,  1.22792625,  1.12860107, ...,  1.22351265,\n",
       "        1.63306618,  0.86245537], dtype=float32)"
      ]
     },
     "execution_count": 6,
     "metadata": {},
     "output_type": "execute_result"
    }
   ],
   "source": [
    "# access single column\n",
    "phot['GI0CORR']"
   ]
  },
  {
   "cell_type": "code",
   "execution_count": null,
   "metadata": {
    "collapsed": true
   },
   "outputs": [],
   "source": [
    "# can also subscript\n",
    "phot['ra'][100:200]"
   ]
  },
  {
   "cell_type": "code",
   "execution_count": null,
   "metadata": {
    "collapsed": true
   },
   "outputs": [],
   "source": [
    "#Import calibration data and define variable spec\n",
    "spec = fits.getdata('E:\\OneDrive\\School\\Graduate\\Research\\Fall 2017\\Data\\Ho2017_Catalog.fits',1)"
   ]
  },
  {
   "cell_type": "code",
   "execution_count": null,
   "metadata": {
    "collapsed": true
   },
   "outputs": [],
   "source": [
    "#Cross-matching\n",
    "from astropy.coordinates import SkyCoord\n",
    "from astropy import units as u\n",
    "c_phot=SkyCoord(ra=phot['ra']*u.degree,dec=phot['dec']*u.degree)\n",
    "c_spec=SkyCoord(ra=spec['RA']*u.degree,dec=spec['Dec']*u.degree)\n",
    "idx, d2d, d3d = c_phot.match_to_catalog_sky(c_spec) \n",
    "good=(d2d.arcsec < 1)\n",
    "\n",
    "spec2 = fits.getdata('ssppOut-dr10.fits.gz',1)\n",
    "c_spec2=SkyCoord(ra=spec2['plug_ra']*u.degree,dec=spec2['plug_dec']*u.degree)\n",
    "idx, d2d, d3d = c_phot.match_to_catalog_sky(c_spec2) \n",
    "good=(d2d.arcsec < 1)"
   ]
  },
  {
   "cell_type": "code",
   "execution_count": null,
   "metadata": {
    "collapsed": true
   },
   "outputs": [],
   "source": [
    "#Plotting\n",
    "import matplotlib.pyplot as plt\n",
    "plt.scatter(phot['ra'],phot['dec'],marker='+',c='red')\n",
    "plt.scatter(spec['RA'],spec['Dec'],marker='o',c='green')\n",
    "plt.show()"
   ]
  }
 ],
 "metadata": {
  "kernelspec": {
   "display_name": "Python 3",
   "language": "python",
   "name": "python3"
  },
  "language_info": {
   "codemirror_mode": {
    "name": "ipython",
    "version": 3
   },
   "file_extension": ".py",
   "mimetype": "text/x-python",
   "name": "python",
   "nbconvert_exporter": "python",
   "pygments_lexer": "ipython3",
   "version": "3.6.2"
  }
 },
 "nbformat": 4,
 "nbformat_minor": 2
}
