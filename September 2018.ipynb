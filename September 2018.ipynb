{
 "cells": [
  {
   "cell_type": "markdown",
   "metadata": {
    "collapsed": true
   },
   "source": [
    "9/28/18\n",
    "====\n",
    "\n",
    ">### Below I attempt to examine the fits table from one of David's example notebooks. I will do this so that I may determine how to format my data for use with the Cannon."
   ]
  },
  {
   "cell_type": "code",
   "execution_count": 1,
   "metadata": {
    "collapsed": true
   },
   "outputs": [],
   "source": [
    "# Import libraries and modules\n",
    "import thecannon as tc\n",
    "from astropy.io import fits\n",
    "from astropy.table import Table\n",
    "import numpy as np\n",
    "import matplotlib.pyplot as plt\n",
    "%matplotlib inline"
   ]
  },
  {
   "cell_type": "code",
   "execution_count": 13,
   "metadata": {
    "collapsed": true
   },
   "outputs": [],
   "source": [
    "normalized_flux = fits.getdata('C:\\\\Users\\\\shebe\\\\OneDrive\\\\School\\\\Graduate\\\\Research\\\\Nidever\\\\Data\\\\Test Data\\\\desi_labels_singlestellarpars.fits')\n",
    "labelled_set=Table.read('C:\\\\Users\\\\shebe\\\\OneDrive\\\\School\\\\Graduate\\\\Research\\\\Nidever\\\\Data\\\\Test Data\\\\desi_labels_singlestellarpars.fits')"
   ]
  },
  {
   "cell_type": "code",
   "execution_count": 14,
   "metadata": {
    "scrolled": true
   },
   "outputs": [
    {
     "data": {
      "text/html": [
       "&lt;Table length=502&gt;\n",
       "<table id=\"table2159378453280\" class=\"table-striped table-bordered table-condensed\">\n",
       "<thead><tr><th>TEFF</th><th>LOGG</th><th>MH</th><th>CM</th><th>NM</th><th>OM</th><th>NAM</th><th>MGM</th><th>ALM</th><th>SIM</th><th>CAM</th><th>TIM</th><th>VM</th><th>CRM</th><th>MNM</th><th>FEM</th><th>COM</th><th>NIM</th><th>EUM</th><th>LUM</th><th>UM</th></tr></thead>\n",
       "<thead><tr><th>float32</th><th>float32</th><th>float32</th><th>float32</th><th>float32</th><th>float32</th><th>float32</th><th>float32</th><th>float32</th><th>float32</th><th>float32</th><th>float32</th><th>float32</th><th>float32</th><th>float32</th><th>float32</th><th>float32</th><th>float32</th><th>float32</th><th>float32</th><th>float32</th></tr></thead>\n",
       "<tr><td>4000.0</td><td>2.0</td><td>-1.0</td><td>0.116</td><td>-0.188</td><td>-0.436</td><td>0.036</td><td>0.406</td><td>0.293</td><td>-0.338</td><td>-0.057</td><td>0.273</td><td>-0.438</td><td>-0.261</td><td>-0.464</td><td>0.334</td><td>-0.317</td><td>-0.42</td><td>-0.492</td><td>-0.346</td><td>0.237</td></tr>\n",
       "<tr><td>4000.0</td><td>2.0</td><td>-1.0</td><td>0.275</td><td>-0.352</td><td>0.001</td><td>0.166</td><td>0.055</td><td>-0.432</td><td>0.41</td><td>-0.403</td><td>0.027</td><td>0.202</td><td>-0.222</td><td>0.479</td><td>0.3</td><td>-0.434</td><td>0.174</td><td>-0.309</td><td>0.381</td><td>0.055</td></tr>\n",
       "<tr><td>4000.0</td><td>2.0</td><td>-1.0</td><td>-0.069</td><td>0.055</td><td>0.401</td><td>0.044</td><td>0.14</td><td>0.217</td><td>0.479</td><td>-0.341</td><td>0.189</td><td>0.094</td><td>0.32</td><td>-0.275</td><td>0.057</td><td>-0.479</td><td>-0.346</td><td>-0.008</td><td>-0.377</td><td>-0.494</td></tr>\n",
       "<tr><td>4000.0</td><td>2.0</td><td>-1.0</td><td>0.119</td><td>-0.441</td><td>-0.088</td><td>0.011</td><td>0.175</td><td>-0.449</td><td>-0.236</td><td>-0.403</td><td>-0.177</td><td>0.437</td><td>0.352</td><td>0.076</td><td>-0.32</td><td>0.169</td><td>0.381</td><td>-0.315</td><td>-0.096</td><td>-0.095</td></tr>\n",
       "<tr><td>4000.0</td><td>2.0</td><td>-1.0</td><td>-0.208</td><td>0.371</td><td>0.354</td><td>0.099</td><td>0.034</td><td>-0.245</td><td>0.031</td><td>0.186</td><td>0.283</td><td>0.039</td><td>0.04</td><td>0.21</td><td>-0.123</td><td>0.463</td><td>0.376</td><td>-0.019</td><td>-0.049</td><td>0.479</td></tr>\n",
       "<tr><td>4000.0</td><td>2.0</td><td>-1.0</td><td>-0.461</td><td>0.1</td><td>0.204</td><td>-0.144</td><td>-0.334</td><td>0.192</td><td>0.435</td><td>0.26</td><td>-0.171</td><td>0.019</td><td>0.3</td><td>0.486</td><td>0.094</td><td>0.212</td><td>0.187</td><td>-0.454</td><td>0.202</td><td>-0.148</td></tr>\n",
       "<tr><td>4000.0</td><td>2.0</td><td>-1.0</td><td>-0.382</td><td>0.19</td><td>0.022</td><td>-0.233</td><td>0.452</td><td>-0.278</td><td>-0.273</td><td>0.273</td><td>-0.148</td><td>0.418</td><td>0.194</td><td>0.455</td><td>0.44</td><td>-0.392</td><td>0.422</td><td>0.164</td><td>-0.29</td><td>0.257</td></tr>\n",
       "<tr><td>4000.0</td><td>2.0</td><td>-1.0</td><td>0.326</td><td>-0.107</td><td>0.459</td><td>0.164</td><td>0.274</td><td>-0.117</td><td>-0.244</td><td>-0.19</td><td>-0.274</td><td>-0.214</td><td>-0.392</td><td>-0.055</td><td>-0.26</td><td>-0.035</td><td>-0.024</td><td>-0.108</td><td>0.326</td><td>0.291</td></tr>\n",
       "<tr><td>4000.0</td><td>2.0</td><td>-1.0</td><td>-0.432</td><td>0.038</td><td>-0.286</td><td>0.276</td><td>-0.229</td><td>0.215</td><td>-0.05</td><td>0.309</td><td>0.002</td><td>-0.179</td><td>0.37</td><td>-0.071</td><td>0.1</td><td>0.085</td><td>-0.362</td><td>-0.406</td><td>0.029</td><td>0.399</td></tr>\n",
       "<tr><td>4000.0</td><td>2.0</td><td>-1.0</td><td>-0.103</td><td>-0.205</td><td>-0.009</td><td>-0.196</td><td>0.428</td><td>-0.469</td><td>-0.461</td><td>0.485</td><td>0.032</td><td>-0.148</td><td>0.287</td><td>-0.073</td><td>-0.074</td><td>-0.047</td><td>-0.266</td><td>0.217</td><td>0.456</td><td>0.345</td></tr>\n",
       "<tr><td>...</td><td>...</td><td>...</td><td>...</td><td>...</td><td>...</td><td>...</td><td>...</td><td>...</td><td>...</td><td>...</td><td>...</td><td>...</td><td>...</td><td>...</td><td>...</td><td>...</td><td>...</td><td>...</td><td>...</td><td>...</td></tr>\n",
       "<tr><td>4000.0</td><td>2.0</td><td>-1.0</td><td>-0.445</td><td>-0.497</td><td>0.11</td><td>-0.198</td><td>0.141</td><td>-0.298</td><td>-0.042</td><td>0.105</td><td>0.039</td><td>0.324</td><td>-0.304</td><td>0.455</td><td>-0.389</td><td>-0.044</td><td>0.305</td><td>0.355</td><td>0.156</td><td>0.12</td></tr>\n",
       "<tr><td>4000.0</td><td>2.0</td><td>-1.0</td><td>-0.117</td><td>0.173</td><td>0.156</td><td>0.258</td><td>0.025</td><td>-0.372</td><td>-0.183</td><td>-0.174</td><td>0.373</td><td>-0.271</td><td>0.112</td><td>0.4</td><td>-0.209</td><td>-0.204</td><td>-0.376</td><td>-0.023</td><td>0.236</td><td>-0.237</td></tr>\n",
       "<tr><td>4000.0</td><td>2.0</td><td>-1.0</td><td>-0.14</td><td>0.222</td><td>0.04</td><td>-0.098</td><td>0.366</td><td>0.012</td><td>-0.005</td><td>-0.412</td><td>0.443</td><td>-0.0</td><td>-0.255</td><td>-0.417</td><td>-0.003</td><td>0.217</td><td>-0.416</td><td>0.163</td><td>0.189</td><td>0.344</td></tr>\n",
       "<tr><td>4000.0</td><td>2.0</td><td>-1.0</td><td>-0.5</td><td>-0.355</td><td>-0.055</td><td>-0.233</td><td>0.441</td><td>-0.468</td><td>-0.249</td><td>0.206</td><td>-0.125</td><td>-0.414</td><td>0.392</td><td>0.283</td><td>-0.053</td><td>-0.134</td><td>-0.195</td><td>0.125</td><td>-0.0</td><td>0.421</td></tr>\n",
       "<tr><td>4000.0</td><td>2.0</td><td>-1.0</td><td>-0.363</td><td>-0.026</td><td>0.087</td><td>-0.423</td><td>0.299</td><td>-0.112</td><td>-0.118</td><td>-0.187</td><td>-0.459</td><td>-0.014</td><td>0.073</td><td>0.222</td><td>0.128</td><td>-0.361</td><td>-0.488</td><td>-0.118</td><td>-0.127</td><td>0.029</td></tr>\n",
       "<tr><td>4000.0</td><td>2.0</td><td>-1.0</td><td>-0.095</td><td>0.287</td><td>0.082</td><td>-0.142</td><td>0.277</td><td>0.403</td><td>-0.108</td><td>-0.368</td><td>0.278</td><td>0.44</td><td>0.132</td><td>0.079</td><td>0.311</td><td>0.311</td><td>-0.296</td><td>-0.427</td><td>-0.058</td><td>-0.053</td></tr>\n",
       "<tr><td>4000.0</td><td>2.0</td><td>-1.0</td><td>0.011</td><td>0.077</td><td>0.212</td><td>0.142</td><td>-0.238</td><td>0.417</td><td>-0.13</td><td>0.426</td><td>0.249</td><td>-0.226</td><td>0.411</td><td>-0.137</td><td>0.232</td><td>-0.138</td><td>-0.324</td><td>-0.303</td><td>-0.494</td><td>-0.119</td></tr>\n",
       "<tr><td>4000.0</td><td>2.0</td><td>-1.0</td><td>-0.044</td><td>-0.307</td><td>-0.133</td><td>-0.175</td><td>0.472</td><td>-0.381</td><td>0.231</td><td>-0.471</td><td>-0.115</td><td>0.275</td><td>-0.32</td><td>0.167</td><td>-0.435</td><td>0.404</td><td>-0.413</td><td>-0.456</td><td>0.339</td><td>-0.412</td></tr>\n",
       "<tr><td>4000.0</td><td>2.0</td><td>-1.0</td><td>-0.109</td><td>-0.414</td><td>0.215</td><td>-0.248</td><td>0.397</td><td>0.066</td><td>0.34</td><td>0.334</td><td>0.466</td><td>0.258</td><td>-0.251</td><td>-0.046</td><td>0.052</td><td>-0.019</td><td>-0.286</td><td>0.386</td><td>0.351</td><td>-0.357</td></tr>\n",
       "<tr><td>4000.0</td><td>2.0</td><td>-1.0</td><td>0.131</td><td>-0.268</td><td>-0.394</td><td>0.192</td><td>0.256</td><td>0.441</td><td>0.181</td><td>-0.348</td><td>-0.023</td><td>0.494</td><td>0.427</td><td>-0.389</td><td>0.4</td><td>-0.149</td><td>0.17</td><td>0.372</td><td>-0.38</td><td>-0.204</td></tr>\n",
       "</table>"
      ],
      "text/plain": [
       "<Table length=502>\n",
       "  TEFF    LOGG     MH      CM      NM   ...   NIM     EUM     LUM      UM  \n",
       "float32 float32 float32 float32 float32 ... float32 float32 float32 float32\n",
       "------- ------- ------- ------- ------- ... ------- ------- ------- -------\n",
       " 4000.0     2.0    -1.0   0.116  -0.188 ...   -0.42  -0.492  -0.346   0.237\n",
       " 4000.0     2.0    -1.0   0.275  -0.352 ...   0.174  -0.309   0.381   0.055\n",
       " 4000.0     2.0    -1.0  -0.069   0.055 ...  -0.346  -0.008  -0.377  -0.494\n",
       " 4000.0     2.0    -1.0   0.119  -0.441 ...   0.381  -0.315  -0.096  -0.095\n",
       " 4000.0     2.0    -1.0  -0.208   0.371 ...   0.376  -0.019  -0.049   0.479\n",
       " 4000.0     2.0    -1.0  -0.461     0.1 ...   0.187  -0.454   0.202  -0.148\n",
       " 4000.0     2.0    -1.0  -0.382    0.19 ...   0.422   0.164   -0.29   0.257\n",
       " 4000.0     2.0    -1.0   0.326  -0.107 ...  -0.024  -0.108   0.326   0.291\n",
       " 4000.0     2.0    -1.0  -0.432   0.038 ...  -0.362  -0.406   0.029   0.399\n",
       " 4000.0     2.0    -1.0  -0.103  -0.205 ...  -0.266   0.217   0.456   0.345\n",
       "    ...     ...     ...     ...     ... ...     ...     ...     ...     ...\n",
       " 4000.0     2.0    -1.0  -0.445  -0.497 ...   0.305   0.355   0.156    0.12\n",
       " 4000.0     2.0    -1.0  -0.117   0.173 ...  -0.376  -0.023   0.236  -0.237\n",
       " 4000.0     2.0    -1.0   -0.14   0.222 ...  -0.416   0.163   0.189   0.344\n",
       " 4000.0     2.0    -1.0    -0.5  -0.355 ...  -0.195   0.125    -0.0   0.421\n",
       " 4000.0     2.0    -1.0  -0.363  -0.026 ...  -0.488  -0.118  -0.127   0.029\n",
       " 4000.0     2.0    -1.0  -0.095   0.287 ...  -0.296  -0.427  -0.058  -0.053\n",
       " 4000.0     2.0    -1.0   0.011   0.077 ...  -0.324  -0.303  -0.494  -0.119\n",
       " 4000.0     2.0    -1.0  -0.044  -0.307 ...  -0.413  -0.456   0.339  -0.412\n",
       " 4000.0     2.0    -1.0  -0.109  -0.414 ...  -0.286   0.386   0.351  -0.357\n",
       " 4000.0     2.0    -1.0   0.131  -0.268 ...    0.17   0.372   -0.38  -0.204"
      ]
     },
     "execution_count": 14,
     "metadata": {},
     "output_type": "execute_result"
    }
   ],
   "source": [
    "labelled_set"
   ]
  },
  {
   "cell_type": "markdown",
   "metadata": {},
   "source": [
    ">### The table above is in the same format that I am accustomed to.  Below the table that will be used with the Cannon has extraneous columns removed."
   ]
  },
  {
   "cell_type": "code",
   "execution_count": 15,
   "metadata": {
    "collapsed": true
   },
   "outputs": [],
   "source": [
    "labelled_set.remove_column('TEFF')\n",
    "labelled_set.remove_column('LOGG')\n",
    "labelled_set.remove_column('MH')"
   ]
  },
  {
   "cell_type": "code",
   "execution_count": 16,
   "metadata": {
    "scrolled": true
   },
   "outputs": [
    {
     "data": {
      "text/html": [
       "&lt;Table length=502&gt;\n",
       "<table id=\"table2159378453280\" class=\"table-striped table-bordered table-condensed\">\n",
       "<thead><tr><th>CM</th><th>NM</th><th>OM</th><th>NAM</th><th>MGM</th><th>ALM</th><th>SIM</th><th>CAM</th><th>TIM</th><th>VM</th><th>CRM</th><th>MNM</th><th>FEM</th><th>COM</th><th>NIM</th><th>EUM</th><th>LUM</th><th>UM</th></tr></thead>\n",
       "<thead><tr><th>float32</th><th>float32</th><th>float32</th><th>float32</th><th>float32</th><th>float32</th><th>float32</th><th>float32</th><th>float32</th><th>float32</th><th>float32</th><th>float32</th><th>float32</th><th>float32</th><th>float32</th><th>float32</th><th>float32</th><th>float32</th></tr></thead>\n",
       "<tr><td>0.116</td><td>-0.188</td><td>-0.436</td><td>0.036</td><td>0.406</td><td>0.293</td><td>-0.338</td><td>-0.057</td><td>0.273</td><td>-0.438</td><td>-0.261</td><td>-0.464</td><td>0.334</td><td>-0.317</td><td>-0.42</td><td>-0.492</td><td>-0.346</td><td>0.237</td></tr>\n",
       "<tr><td>0.275</td><td>-0.352</td><td>0.001</td><td>0.166</td><td>0.055</td><td>-0.432</td><td>0.41</td><td>-0.403</td><td>0.027</td><td>0.202</td><td>-0.222</td><td>0.479</td><td>0.3</td><td>-0.434</td><td>0.174</td><td>-0.309</td><td>0.381</td><td>0.055</td></tr>\n",
       "<tr><td>-0.069</td><td>0.055</td><td>0.401</td><td>0.044</td><td>0.14</td><td>0.217</td><td>0.479</td><td>-0.341</td><td>0.189</td><td>0.094</td><td>0.32</td><td>-0.275</td><td>0.057</td><td>-0.479</td><td>-0.346</td><td>-0.008</td><td>-0.377</td><td>-0.494</td></tr>\n",
       "<tr><td>0.119</td><td>-0.441</td><td>-0.088</td><td>0.011</td><td>0.175</td><td>-0.449</td><td>-0.236</td><td>-0.403</td><td>-0.177</td><td>0.437</td><td>0.352</td><td>0.076</td><td>-0.32</td><td>0.169</td><td>0.381</td><td>-0.315</td><td>-0.096</td><td>-0.095</td></tr>\n",
       "<tr><td>-0.208</td><td>0.371</td><td>0.354</td><td>0.099</td><td>0.034</td><td>-0.245</td><td>0.031</td><td>0.186</td><td>0.283</td><td>0.039</td><td>0.04</td><td>0.21</td><td>-0.123</td><td>0.463</td><td>0.376</td><td>-0.019</td><td>-0.049</td><td>0.479</td></tr>\n",
       "<tr><td>-0.461</td><td>0.1</td><td>0.204</td><td>-0.144</td><td>-0.334</td><td>0.192</td><td>0.435</td><td>0.26</td><td>-0.171</td><td>0.019</td><td>0.3</td><td>0.486</td><td>0.094</td><td>0.212</td><td>0.187</td><td>-0.454</td><td>0.202</td><td>-0.148</td></tr>\n",
       "<tr><td>-0.382</td><td>0.19</td><td>0.022</td><td>-0.233</td><td>0.452</td><td>-0.278</td><td>-0.273</td><td>0.273</td><td>-0.148</td><td>0.418</td><td>0.194</td><td>0.455</td><td>0.44</td><td>-0.392</td><td>0.422</td><td>0.164</td><td>-0.29</td><td>0.257</td></tr>\n",
       "<tr><td>0.326</td><td>-0.107</td><td>0.459</td><td>0.164</td><td>0.274</td><td>-0.117</td><td>-0.244</td><td>-0.19</td><td>-0.274</td><td>-0.214</td><td>-0.392</td><td>-0.055</td><td>-0.26</td><td>-0.035</td><td>-0.024</td><td>-0.108</td><td>0.326</td><td>0.291</td></tr>\n",
       "<tr><td>-0.432</td><td>0.038</td><td>-0.286</td><td>0.276</td><td>-0.229</td><td>0.215</td><td>-0.05</td><td>0.309</td><td>0.002</td><td>-0.179</td><td>0.37</td><td>-0.071</td><td>0.1</td><td>0.085</td><td>-0.362</td><td>-0.406</td><td>0.029</td><td>0.399</td></tr>\n",
       "<tr><td>-0.103</td><td>-0.205</td><td>-0.009</td><td>-0.196</td><td>0.428</td><td>-0.469</td><td>-0.461</td><td>0.485</td><td>0.032</td><td>-0.148</td><td>0.287</td><td>-0.073</td><td>-0.074</td><td>-0.047</td><td>-0.266</td><td>0.217</td><td>0.456</td><td>0.345</td></tr>\n",
       "<tr><td>...</td><td>...</td><td>...</td><td>...</td><td>...</td><td>...</td><td>...</td><td>...</td><td>...</td><td>...</td><td>...</td><td>...</td><td>...</td><td>...</td><td>...</td><td>...</td><td>...</td><td>...</td></tr>\n",
       "<tr><td>-0.445</td><td>-0.497</td><td>0.11</td><td>-0.198</td><td>0.141</td><td>-0.298</td><td>-0.042</td><td>0.105</td><td>0.039</td><td>0.324</td><td>-0.304</td><td>0.455</td><td>-0.389</td><td>-0.044</td><td>0.305</td><td>0.355</td><td>0.156</td><td>0.12</td></tr>\n",
       "<tr><td>-0.117</td><td>0.173</td><td>0.156</td><td>0.258</td><td>0.025</td><td>-0.372</td><td>-0.183</td><td>-0.174</td><td>0.373</td><td>-0.271</td><td>0.112</td><td>0.4</td><td>-0.209</td><td>-0.204</td><td>-0.376</td><td>-0.023</td><td>0.236</td><td>-0.237</td></tr>\n",
       "<tr><td>-0.14</td><td>0.222</td><td>0.04</td><td>-0.098</td><td>0.366</td><td>0.012</td><td>-0.005</td><td>-0.412</td><td>0.443</td><td>-0.0</td><td>-0.255</td><td>-0.417</td><td>-0.003</td><td>0.217</td><td>-0.416</td><td>0.163</td><td>0.189</td><td>0.344</td></tr>\n",
       "<tr><td>-0.5</td><td>-0.355</td><td>-0.055</td><td>-0.233</td><td>0.441</td><td>-0.468</td><td>-0.249</td><td>0.206</td><td>-0.125</td><td>-0.414</td><td>0.392</td><td>0.283</td><td>-0.053</td><td>-0.134</td><td>-0.195</td><td>0.125</td><td>-0.0</td><td>0.421</td></tr>\n",
       "<tr><td>-0.363</td><td>-0.026</td><td>0.087</td><td>-0.423</td><td>0.299</td><td>-0.112</td><td>-0.118</td><td>-0.187</td><td>-0.459</td><td>-0.014</td><td>0.073</td><td>0.222</td><td>0.128</td><td>-0.361</td><td>-0.488</td><td>-0.118</td><td>-0.127</td><td>0.029</td></tr>\n",
       "<tr><td>-0.095</td><td>0.287</td><td>0.082</td><td>-0.142</td><td>0.277</td><td>0.403</td><td>-0.108</td><td>-0.368</td><td>0.278</td><td>0.44</td><td>0.132</td><td>0.079</td><td>0.311</td><td>0.311</td><td>-0.296</td><td>-0.427</td><td>-0.058</td><td>-0.053</td></tr>\n",
       "<tr><td>0.011</td><td>0.077</td><td>0.212</td><td>0.142</td><td>-0.238</td><td>0.417</td><td>-0.13</td><td>0.426</td><td>0.249</td><td>-0.226</td><td>0.411</td><td>-0.137</td><td>0.232</td><td>-0.138</td><td>-0.324</td><td>-0.303</td><td>-0.494</td><td>-0.119</td></tr>\n",
       "<tr><td>-0.044</td><td>-0.307</td><td>-0.133</td><td>-0.175</td><td>0.472</td><td>-0.381</td><td>0.231</td><td>-0.471</td><td>-0.115</td><td>0.275</td><td>-0.32</td><td>0.167</td><td>-0.435</td><td>0.404</td><td>-0.413</td><td>-0.456</td><td>0.339</td><td>-0.412</td></tr>\n",
       "<tr><td>-0.109</td><td>-0.414</td><td>0.215</td><td>-0.248</td><td>0.397</td><td>0.066</td><td>0.34</td><td>0.334</td><td>0.466</td><td>0.258</td><td>-0.251</td><td>-0.046</td><td>0.052</td><td>-0.019</td><td>-0.286</td><td>0.386</td><td>0.351</td><td>-0.357</td></tr>\n",
       "<tr><td>0.131</td><td>-0.268</td><td>-0.394</td><td>0.192</td><td>0.256</td><td>0.441</td><td>0.181</td><td>-0.348</td><td>-0.023</td><td>0.494</td><td>0.427</td><td>-0.389</td><td>0.4</td><td>-0.149</td><td>0.17</td><td>0.372</td><td>-0.38</td><td>-0.204</td></tr>\n",
       "</table>"
      ],
      "text/plain": [
       "<Table length=502>\n",
       "   CM      NM      OM     NAM     MGM   ...   NIM     EUM     LUM      UM  \n",
       "float32 float32 float32 float32 float32 ... float32 float32 float32 float32\n",
       "------- ------- ------- ------- ------- ... ------- ------- ------- -------\n",
       "  0.116  -0.188  -0.436   0.036   0.406 ...   -0.42  -0.492  -0.346   0.237\n",
       "  0.275  -0.352   0.001   0.166   0.055 ...   0.174  -0.309   0.381   0.055\n",
       " -0.069   0.055   0.401   0.044    0.14 ...  -0.346  -0.008  -0.377  -0.494\n",
       "  0.119  -0.441  -0.088   0.011   0.175 ...   0.381  -0.315  -0.096  -0.095\n",
       " -0.208   0.371   0.354   0.099   0.034 ...   0.376  -0.019  -0.049   0.479\n",
       " -0.461     0.1   0.204  -0.144  -0.334 ...   0.187  -0.454   0.202  -0.148\n",
       " -0.382    0.19   0.022  -0.233   0.452 ...   0.422   0.164   -0.29   0.257\n",
       "  0.326  -0.107   0.459   0.164   0.274 ...  -0.024  -0.108   0.326   0.291\n",
       " -0.432   0.038  -0.286   0.276  -0.229 ...  -0.362  -0.406   0.029   0.399\n",
       " -0.103  -0.205  -0.009  -0.196   0.428 ...  -0.266   0.217   0.456   0.345\n",
       "    ...     ...     ...     ...     ... ...     ...     ...     ...     ...\n",
       " -0.445  -0.497    0.11  -0.198   0.141 ...   0.305   0.355   0.156    0.12\n",
       " -0.117   0.173   0.156   0.258   0.025 ...  -0.376  -0.023   0.236  -0.237\n",
       "  -0.14   0.222    0.04  -0.098   0.366 ...  -0.416   0.163   0.189   0.344\n",
       "   -0.5  -0.355  -0.055  -0.233   0.441 ...  -0.195   0.125    -0.0   0.421\n",
       " -0.363  -0.026   0.087  -0.423   0.299 ...  -0.488  -0.118  -0.127   0.029\n",
       " -0.095   0.287   0.082  -0.142   0.277 ...  -0.296  -0.427  -0.058  -0.053\n",
       "  0.011   0.077   0.212   0.142  -0.238 ...  -0.324  -0.303  -0.494  -0.119\n",
       " -0.044  -0.307  -0.133  -0.175   0.472 ...  -0.413  -0.456   0.339  -0.412\n",
       " -0.109  -0.414   0.215  -0.248   0.397 ...  -0.286   0.386   0.351  -0.357\n",
       "  0.131  -0.268  -0.394   0.192   0.256 ...    0.17   0.372   -0.38  -0.204"
      ]
     },
     "execution_count": 16,
     "metadata": {},
     "output_type": "execute_result"
    }
   ],
   "source": [
    "labelled_set"
   ]
  },
  {
   "cell_type": "markdown",
   "metadata": {},
   "source": [
    ">### From here on, I attempt to train the Cannon on my calibration data."
   ]
  },
  {
   "cell_type": "code",
   "execution_count": 29,
   "metadata": {
    "collapsed": true
   },
   "outputs": [],
   "source": [
    "# Import functions\n",
    "import thecannon as tc\n",
    "from astropy.io import fits\n",
    "from astropy.table import Table\n",
    "import numpy as np\n",
    "import matplotlib.pyplot as plt\n",
    "%matplotlib inline"
   ]
  },
  {
   "cell_type": "code",
   "execution_count": 44,
   "metadata": {
    "collapsed": true
   },
   "outputs": [],
   "source": [
    "# Import the calibration data\n",
    "normalized_flux = Table.read('C:\\\\Users\\\\shebe\\\\OneDrive\\\\School\\\\Graduate\\\\Research\\\\Nidever\\\\Data\\\\apogeegaia_giants.fits')"
   ]
  },
  {
   "cell_type": "code",
   "execution_count": 45,
   "metadata": {
    "collapsed": true,
    "scrolled": true
   },
   "outputs": [],
   "source": [
    "#columns to remove from data\n",
    "rmclm = [i for i in normalized_flux.colnames if i!= 'MGH' and i!= 'G' and i!= 'BP' and i!= 'RP' and i!= 'BPRP' and i!= 'BPD'and i!= 'METALS']\n"
   ]
  },
  {
   "cell_type": "markdown",
   "metadata": {},
   "source": [
    ">### Instead of loading spectra into the Cannon, I will be loading photometric bands.  Below I create a new table with photometric bands, metallicity, and Mg abundance.  I am assuming (for now) that I want the metallicity and Mg abundance included."
   ]
  },
  {
   "cell_type": "code",
   "execution_count": 46,
   "metadata": {},
   "outputs": [
    {
     "data": {
      "text/html": [
       "&lt;Table length=4408&gt;\n",
       "<table id=\"table3114079570408\" class=\"table-striped table-bordered table-condensed\">\n",
       "<thead><tr><th>METALS</th><th>MGH</th><th>G</th><th>BP</th><th>RP</th><th>BPRP</th><th>BPD</th></tr></thead>\n",
       "<thead><tr><th>float32</th><th>float32</th><th>float32</th><th>float32</th><th>float32</th><th>float32</th><th>float32</th></tr></thead>\n",
       "<tr><td>-0.16958</td><td>-0.115937</td><td>12.317</td><td>12.918</td><td>11.6004</td><td>1.31753</td><td>-0.0668445</td></tr>\n",
       "<tr><td>-0.52236</td><td>-0.44762</td><td>14.047</td><td>14.8318</td><td>13.1956</td><td>1.63618</td><td>-0.210947</td></tr>\n",
       "<tr><td>-0.3126</td><td>-0.225663</td><td>13.2254</td><td>13.8234</td><td>12.498</td><td>1.32535</td><td>-0.104493</td></tr>\n",
       "<tr><td>-0.5681</td><td>-0.358764</td><td>14.0753</td><td>14.6649</td><td>13.3576</td><td>1.30726</td><td>-0.0987172</td></tr>\n",
       "<tr><td>0.076844</td><td>0.108513</td><td>12.339</td><td>12.9383</td><td>11.6266</td><td>1.31168</td><td>-0.123318</td></tr>\n",
       "<tr><td>-0.32902</td><td>-0.230722</td><td>12.1832</td><td>12.7422</td><td>11.4958</td><td>1.24644</td><td>-0.0739236</td></tr>\n",
       "<tr><td>-0.42165</td><td>-0.268888</td><td>13.8995</td><td>14.4472</td><td>13.2157</td><td>1.23155</td><td>-0.0607287</td></tr>\n",
       "<tr><td>-0.24449</td><td>-0.149131</td><td>12.264</td><td>12.8233</td><td>11.5758</td><td>1.24754</td><td>-0.0976743</td></tr>\n",
       "<tr><td>-0.049506</td><td>-0.00980468</td><td>12.4966</td><td>13.0589</td><td>11.8116</td><td>1.24726</td><td>-0.12965</td></tr>\n",
       "<tr><td>-0.056028</td><td>-0.0550513</td><td>12.126</td><td>12.6876</td><td>11.4448</td><td>1.24275</td><td>-0.0954929</td></tr>\n",
       "<tr><td>...</td><td>...</td><td>...</td><td>...</td><td>...</td><td>...</td><td>...</td></tr>\n",
       "<tr><td>-1.0517</td><td>-0.815224</td><td>12.0116</td><td>12.654</td><td>11.2632</td><td>1.39075</td><td>-0.167063</td></tr>\n",
       "<tr><td>-1.134</td><td>-0.946894</td><td>13.6062</td><td>14.0793</td><td>12.9777</td><td>1.10159</td><td>-0.129005</td></tr>\n",
       "<tr><td>-0.31297</td><td>-0.0833993</td><td>13.8194</td><td>14.3682</td><td>13.1391</td><td>1.22909</td><td>-0.179792</td></tr>\n",
       "<tr><td>-0.31698</td><td>-0.246045</td><td>13.3216</td><td>13.7696</td><td>12.7248</td><td>1.04483</td><td>-0.0981276</td></tr>\n",
       "<tr><td>-0.73903</td><td>-0.699384</td><td>14.3347</td><td>14.7683</td><td>13.7361</td><td>1.03211</td><td>-0.123499</td></tr>\n",
       "<tr><td>-0.21764</td><td>-0.0539894</td><td>10.9706</td><td>11.6909</td><td>10.1809</td><td>1.50993</td><td>-0.316818</td></tr>\n",
       "<tr><td>-0.53581</td><td>-0.342314</td><td>13.7294</td><td>14.2229</td><td>13.0906</td><td>1.13235</td><td>-0.125231</td></tr>\n",
       "<tr><td>-0.066049</td><td>-0.0377241</td><td>11.4927</td><td>12.1494</td><td>10.7461</td><td>1.40324</td><td>-0.218083</td></tr>\n",
       "<tr><td>-0.44937</td><td>-0.343071</td><td>10.9115</td><td>11.4181</td><td>10.2769</td><td>1.14123</td><td>-0.102333</td></tr>\n",
       "<tr><td>0.23491</td><td>0.273761</td><td>12.0471</td><td>12.6455</td><td>11.3403</td><td>1.30518</td><td>-0.213499</td></tr>\n",
       "</table>"
      ],
      "text/plain": [
       "<Table length=4408>\n",
       "  METALS      MGH        G       BP      RP     BPRP     BPD    \n",
       " float32    float32   float32 float32 float32 float32  float32  \n",
       "--------- ----------- ------- ------- ------- ------- ----------\n",
       " -0.16958   -0.115937  12.317  12.918 11.6004 1.31753 -0.0668445\n",
       " -0.52236    -0.44762  14.047 14.8318 13.1956 1.63618  -0.210947\n",
       "  -0.3126   -0.225663 13.2254 13.8234  12.498 1.32535  -0.104493\n",
       "  -0.5681   -0.358764 14.0753 14.6649 13.3576 1.30726 -0.0987172\n",
       " 0.076844    0.108513  12.339 12.9383 11.6266 1.31168  -0.123318\n",
       " -0.32902   -0.230722 12.1832 12.7422 11.4958 1.24644 -0.0739236\n",
       " -0.42165   -0.268888 13.8995 14.4472 13.2157 1.23155 -0.0607287\n",
       " -0.24449   -0.149131  12.264 12.8233 11.5758 1.24754 -0.0976743\n",
       "-0.049506 -0.00980468 12.4966 13.0589 11.8116 1.24726   -0.12965\n",
       "-0.056028  -0.0550513  12.126 12.6876 11.4448 1.24275 -0.0954929\n",
       "      ...         ...     ...     ...     ...     ...        ...\n",
       "  -1.0517   -0.815224 12.0116  12.654 11.2632 1.39075  -0.167063\n",
       "   -1.134   -0.946894 13.6062 14.0793 12.9777 1.10159  -0.129005\n",
       " -0.31297  -0.0833993 13.8194 14.3682 13.1391 1.22909  -0.179792\n",
       " -0.31698   -0.246045 13.3216 13.7696 12.7248 1.04483 -0.0981276\n",
       " -0.73903   -0.699384 14.3347 14.7683 13.7361 1.03211  -0.123499\n",
       " -0.21764  -0.0539894 10.9706 11.6909 10.1809 1.50993  -0.316818\n",
       " -0.53581   -0.342314 13.7294 14.2229 13.0906 1.13235  -0.125231\n",
       "-0.066049  -0.0377241 11.4927 12.1494 10.7461 1.40324  -0.218083\n",
       " -0.44937   -0.343071 10.9115 11.4181 10.2769 1.14123  -0.102333\n",
       "  0.23491    0.273761 12.0471 12.6455 11.3403 1.30518  -0.213499"
      ]
     },
     "execution_count": 46,
     "metadata": {},
     "output_type": "execute_result"
    }
   ],
   "source": [
    "#Remove all extraneous columns\n",
    "normalized_flux.remove_columns(rmclm)\n",
    "normalized_flux"
   ]
  },
  {
   "cell_type": "code",
   "execution_count": 47,
   "metadata": {},
   "outputs": [],
   "source": [
    "#Create labels\n",
    "labelled_set = normalized_flux\n",
    "labelled_set.remove_columns(['METALS','MGH'])"
   ]
  },
  {
   "cell_type": "code",
   "execution_count": 34,
   "metadata": {
    "scrolled": true
   },
   "outputs": [
    {
     "ename": "TypeError",
     "evalue": "unsupported operand type(s) for *: 'Table' and 'int'",
     "output_type": "error",
     "traceback": [
      "\u001b[1;31m---------------------------------------------------------------------------\u001b[0m",
      "\u001b[1;31mTypeError\u001b[0m                                 Traceback (most recent call last)",
      "\u001b[1;32m<ipython-input-34-91da367fa7f8>\u001b[0m in \u001b[0;36m<module>\u001b[1;34m()\u001b[0m\n\u001b[1;32m----> 1\u001b[1;33m \u001b[0mnormalized_ivar\u001b[0m \u001b[1;33m=\u001b[0m \u001b[0mnormalized_flux\u001b[0m\u001b[1;33m.\u001b[0m\u001b[0mcopy\u001b[0m\u001b[1;33m(\u001b[0m\u001b[1;33m)\u001b[0m\u001b[1;33m*\u001b[0m\u001b[1;36m0\u001b[0m \u001b[1;33m+\u001b[0m \u001b[1;36m1e4\u001b[0m\u001b[1;33m\u001b[0m\u001b[0m\n\u001b[0m\u001b[0;32m      2\u001b[0m \u001b[0mvec5\u001b[0m \u001b[1;33m=\u001b[0m \u001b[0mtc\u001b[0m\u001b[1;33m.\u001b[0m\u001b[0mvectorizer\u001b[0m\u001b[1;33m.\u001b[0m\u001b[0mPolynomialVectorizer\u001b[0m\u001b[1;33m(\u001b[0m\u001b[0mlabelled_set\u001b[0m\u001b[1;33m.\u001b[0m\u001b[0mcolnames\u001b[0m\u001b[1;33m,\u001b[0m \u001b[1;36m2\u001b[0m\u001b[1;33m)\u001b[0m\u001b[1;33m\u001b[0m\u001b[0m\n\u001b[0;32m      3\u001b[0m \u001b[0mmodel5\u001b[0m \u001b[1;33m=\u001b[0m \u001b[0mtc\u001b[0m\u001b[1;33m.\u001b[0m\u001b[0mCannonModel\u001b[0m\u001b[1;33m(\u001b[0m\u001b[0mlabelled_set\u001b[0m\u001b[1;33m,\u001b[0m \u001b[0mnormalized_flux\u001b[0m\u001b[1;33m,\u001b[0m \u001b[0mnormalized_ivar\u001b[0m\u001b[1;33m,\u001b[0m \u001b[0mvec5\u001b[0m\u001b[1;33m)\u001b[0m\u001b[1;33m\u001b[0m\u001b[0m\n\u001b[0;32m      4\u001b[0m \u001b[0mmodel5\u001b[0m\u001b[1;33m.\u001b[0m\u001b[0mregularization\u001b[0m \u001b[1;33m=\u001b[0m \u001b[1;36m0\u001b[0m   \u001b[1;31m# no regularization for now\u001b[0m\u001b[1;33m\u001b[0m\u001b[0m\n\u001b[0;32m      5\u001b[0m \u001b[1;31m# Train the model\u001b[0m\u001b[1;33m\u001b[0m\u001b[1;33m\u001b[0m\u001b[0m\n",
      "\u001b[1;31mTypeError\u001b[0m: unsupported operand type(s) for *: 'Table' and 'int'"
     ]
    }
   ],
   "source": [
    "normalized_ivar = normalized_flux.copy()*0 + 1e4\n",
    "vec5 = tc.vectorizer.PolynomialVectorizer(labelled_set.colnames, 2)\n",
    "model5 = tc.CannonModel(labelled_set, normalized_flux, normalized_ivar, vec5)\n",
    "model5.regularization = 0   # no regularization for now\n",
    "# Train the model\n",
    "nr_theta, nr_s2, nr_metadata = model5.train()  \n",
    "# Test/fit the spectra to get the labels\n",
    "labels5, cov, meta = model5.test(normalized_flux, normalized_ivar)"
   ]
  },
  {
   "cell_type": "code",
   "execution_count": null,
   "metadata": {
    "collapsed": true
   },
   "outputs": [],
   "source": []
  }
 ],
 "metadata": {
  "kernelspec": {
   "display_name": "Python 3",
   "language": "python",
   "name": "python3"
  },
  "language_info": {
   "codemirror_mode": {
    "name": "ipython",
    "version": 3
   },
   "file_extension": ".py",
   "mimetype": "text/x-python",
   "name": "python",
   "nbconvert_exporter": "python",
   "pygments_lexer": "ipython3",
   "version": "3.6.2"
  }
 },
 "nbformat": 4,
 "nbformat_minor": 2
}
