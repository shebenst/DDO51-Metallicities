{
 "cells": [
  {
   "cell_type": "markdown",
   "metadata": {},
   "source": [
    ">### Incorporating data lab module to upload DDO51 data using Jupyter notebook."
   ]
  },
  {
   "cell_type": "code",
   "execution_count": null,
   "metadata": {},
   "outputs": [],
   "source": [
    "# Standard notebook imports\n",
    "from __future__ import print_function\n",
    "import getpass\n",
    "from dl import authClient, queryClient, storeClient"
   ]
  },
  {
   "cell_type": "code",
   "execution_count": 57,
   "metadata": {
    "scrolled": true
   },
   "outputs": [
    {
     "name": "stdout",
     "output_type": "stream",
     "text": [
      "Account password: ········\n",
      "Login token:   shebenst.1666.1666.$1$VdRS2wuY$59Y0PvLH7Rmhzn.KTEsFn1\n"
     ]
    }
   ],
   "source": [
    "# Get the security token for the datalab user\n",
    "token = authClient.login ('shebenst',getpass.getpass('Account password: '))\n",
    "if not authClient.isValidToken (token):\n",
    "    print ('Error: invalid user login (%s)' % token)\n",
    "else:\n",
    "    print (\"Login token:   %s\" % token)"
   ]
  },
  {
   "cell_type": "code",
   "execution_count": 20,
   "metadata": {},
   "outputs": [
    {
     "name": "stdout",
     "output_type": "stream",
     "text": [
      "Before: retarray.npy\n"
     ]
    }
   ],
   "source": [
    "#Uploading test to virtual storage\n",
    "count = np.load(r'C:\\Users\\shebe\\OneDrive\\School\\Graduate\\Research\\Nidever\\Data\\DDO51\\retarray.npy')\n",
    "resp = storeClient.put (r'C:\\Users\\shebe\\OneDrive\\School\\Graduate\\Research\\Nidever\\Data\\DDO51\\retarray.npy', \n",
    "                        to='/DDO51/retarray.npy', verbose=False)\n"
   ]
  },
  {
   "cell_type": "markdown",
   "metadata": {},
   "source": [
    ">### Test was successful.  Now I will upload all DDO51 data files to the server."
   ]
  },
  {
   "cell_type": "code",
   "execution_count": 51,
   "metadata": {},
   "outputs": [
    {
     "data": {
      "text/plain": [
       "7258.0"
      ]
     },
     "execution_count": 51,
     "metadata": {},
     "output_type": "execute_result"
    }
   ],
   "source": [
    "# Import modules\n",
    "import numpy as np\n",
    "from scipy import stats\n",
    "import basic\n",
    "from astropy.table import Table\n",
    "import warnings\n",
    "from IPython.display import clear_output\n",
    "\n",
    "#Suppress iPython warnings\n",
    "warnings.filterwarnings('ignore')\n",
    "\n",
    "#Import list of exposures/CCDs\n",
    "night = Table.read(r'C:\\Users\\shebe\\OneDrive\\School\\Graduate\\Research\\Nidever\\Data\\DDO51\\exposures.fits')\n",
    "\n",
    "len(night)/6"
   ]
  },
  {
   "cell_type": "code",
   "execution_count": 59,
   "metadata": {},
   "outputs": [
    {
     "name": "stdout",
     "output_type": "stream",
     "text": [
      "Percent completed: 0.0%\n",
      "Index: 0\n"
     ]
    }
   ],
   "source": [
    "#Upload all DDO51 data files\n",
    "for i in range(0,7258):\n",
    "     \n",
    "    storeClient.put (r\"C:\\Users\\shebe\\OneDrive\\School\\Graduate\\Research\\Nidever\\Data\\DDO51\\20{0}\\{1}\\pcat\\{2}\".format(\n",
    "        night['night'][i*6][1:3],night['night'][i*6][0:7],night['night'][i*6][0:14]), \n",
    "                        to='/{0}'.format(night['night'][i*6][0:14]), verbose=False)\n",
    "    \n",
    "    clear_output(wait=True)\n",
    "    \n",
    "    #Display percent completed\n",
    "    print(\"Percent completed: {0}%\".format(np.round((i/7258)*100),4))\n",
    "    print(\"Index: {0}\".format(i))"
   ]
  },
  {
   "cell_type": "code",
   "execution_count": null,
   "metadata": {},
   "outputs": [],
   "source": []
  }
 ],
 "metadata": {
  "kernelspec": {
   "display_name": "Python 3",
   "language": "python",
   "name": "python3"
  },
  "language_info": {
   "codemirror_mode": {
    "name": "ipython",
    "version": 3
   },
   "file_extension": ".py",
   "mimetype": "text/x-python",
   "name": "python",
   "nbconvert_exporter": "python",
   "pygments_lexer": "ipython3",
   "version": "3.7.3"
  }
 },
 "nbformat": 4,
 "nbformat_minor": 2
}
