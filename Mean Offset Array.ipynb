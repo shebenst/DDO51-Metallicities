{
 "cells": [
  {
   "cell_type": "markdown",
   "metadata": {},
   "source": [
    ">### The code below takes multiple hd5 files from the Munn survey as input and outputs an array with the mean offsets of DDO51."
   ]
  },
  {
   "cell_type": "code",
   "execution_count": 2,
   "metadata": {},
   "outputs": [
    {
     "name": "stderr",
     "output_type": "stream",
     "text": [
      "WARNING: path= was not specified but multiple tables are present, reading in first available table (path=1) [astropy.io.misc.hdf5]\n"
     ]
    },
    {
     "data": {
      "text/plain": [
       "array([0.11686023, 0.05771012, 0.06551465, ..., 0.04954515, 0.03667743,\n",
       "       0.09239255])"
      ]
     },
     "execution_count": 2,
     "metadata": {},
     "output_type": "execute_result"
    }
   ],
   "source": [
    "#Counting number of files in a directory and a list of all hd5 file names.  This will be used to create a blank array for mean offsets.\n",
    "\n",
    "# Import modules\n",
    "from astropy.io import fits\n",
    "from astropy.table import Table\n",
    "import numpy as np\n",
    "import os, os.path\n",
    "\n",
    "path, dirsyear, files = next(os.walk(r\"C:\\Users\\shebe\\OneDrive\\School\\Graduate\\Research\\Nidever\\Data\\DDO51\"))\n",
    "\n",
    "nights = []\n",
    "\n",
    "for i in dirsyear:\n",
    "    path, dirsnight, files = next(os.walk(r\"C:\\Users\\shebe\\OneDrive\\School\\Graduate\\Research\\Nidever\\Data\\DDO51\\{0}\".format(i)))\n",
    "    for j in dirsnight:\n",
    "        path, dirs, filesnight = next(os.walk(r\"C:\\Users\\shebe\\OneDrive\\School\\Graduate\\Research\\Nidever\\Data\\DDO51\\{0}\\{1}\\pcat\".format(i,j)))\n",
    "        nights += filesnight\n",
    "\n",
    "#The variable dirs contains the names of all the folders containing hd5 files.  \n",
    "#This can be referenced during construction of the array\n",
    "\n",
    "files = np.array(nights)\n",
    "mean = np.zeros(len(nights))\n",
    "col1 = fits.Column(name='file', format='A15', array=files)\n",
    "col2 = fits.Column(name='mean', format='D05', unit='DN', array=mean)\n",
    "coldefs = fits.ColDefs([col1, col2])\n",
    "moff = fits.BinTableHDU.from_columns(coldefs)\n",
    "len(moff.data['file'])\n",
    "\n",
    "#For loop to append mean offsets to array for each file\n",
    "for i in nights:\n",
    "    #Loading data from night one\n",
    "    z = Table.read(r'C:\\Users\\shebe\\OneDrive\\School\\Graduate\\Research\\Nidever\\Data\\DDO51\\20{0}\\{1}\\pcat\\{2}'.format(i[1:3],i[0:7],i))\n",
    "\n",
    "    #loading dwarf locus data\n",
    "    dat = Table.read(r'C:\\Users\\shebe\\OneDrive\\School\\Graduate\\Research\\Nidever\\Data\\gaiad51_dwarflocus.fits')\n",
    "\n",
    "    #Removing nans from Gaia BP and RP matched photometry\n",
    "    ind = np.isnan(z['phot_bp_mean_mag'])\n",
    "    tb = z['phot_bp_mean_mag']\n",
    "    tr = z['phot_rp_mean_mag']\n",
    "    dd = z['ddo51']\n",
    "    ind = np.where((~np.isnan(tb))&(~np.isnan(tr))&(~np.isnan(dd)))\n",
    "\n",
    "    #Remove any row with a nan in BP or RP\n",
    "    tb = tb[ind]\n",
    "    tr = tr[ind]\n",
    "    dd = dd[ind]\n",
    "    \n",
    "    #Zero-point data\n",
    "    #Calculate differences between photometric bands\n",
    "    bprp = tb-tr\n",
    "    bpd = tb-dd\n",
    "    dt = np.dtype([('bprp',float),('bpd',float)])\n",
    "    zerop = np.zeros(len(dd), dtype=dt)\n",
    "    zerop['bprp'] = bprp\n",
    "    zerop['bpd'] = bpd\n",
    "    \n",
    "    #Focus on values near the dwarf locus\n",
    "    ind = np.where((zerop['bprp']<3)&(zerop['bpd']<3))\n",
    "    zerop = zerop[ind]\n",
    "    hist, xedges, yedges = np.histogram2d(zerop['bprp'],zerop['bpd'], [50,50])\n",
    "    ind = np.where(hist == hist.max())\n",
    "    \n",
    "    #Find the location of highest density in the locus\n",
    "    x0 = xedges[ind[0]][0]\n",
    "    y0 = yedges[ind[1]][0]\n",
    "    good = np.where((zerop['bpd']<(y0+0.15))&(zerop['bpd']>(y0-0.68))&(zerop['bprp']<(x0+2.17))&(zerop['bprp']>(x0-0.574)))\n",
    "    zerop = zerop[good]\n",
    "    \n",
    "    #Calculate mean offset for field and append to fits table moff\n",
    "    photint = np.interp(zerop['bprp'],dat['BPRP'],dat['BPD'])\n",
    "    diff = zerop['bpd']  - photint\n",
    "    m = np.mean(diff)\n",
    "    loc = np.where(moff.data['file']==i)\n",
    "    moff.data['mean'][loc] = m\n",
    "\n",
    "moff.data['mean']"
   ]
  },
  {
   "cell_type": "code",
   "execution_count": 9,
   "metadata": {},
   "outputs": [],
   "source": [
    "#Viewing array\n",
    "t = moff.data"
   ]
  },
  {
   "cell_type": "code",
   "execution_count": 8,
   "metadata": {},
   "outputs": [
    {
     "name": "stdout",
     "output_type": "stream",
     "text": [
      "Minimum mean offset: -100.50419902311815\n",
      "Maximum mean offset: 1.0671678294739355\n",
      "Median: 0.0783413076726828\n",
      "Mean of all means: 0.03244718999507937\n"
     ]
    }
   ],
   "source": [
    "#Maximum and minimum mean offsets\n",
    "print('Minimum mean offset: {0}'.format(min(t['mean'])))\n",
    "print('Maximum mean offset: {0}'.format(max(t['mean'])))\n",
    "print('Median: {0}'.format(np.median(t['mean'])))\n",
    "print('Mean of all means: {0}'.format(np.mean(t['mean'])))"
   ]
  },
  {
   "cell_type": "code",
   "execution_count": 13,
   "metadata": {},
   "outputs": [],
   "source": [
    "t = t[np.where(t['mean']<-2)]"
   ]
  },
  {
   "cell_type": "code",
   "execution_count": 14,
   "metadata": {},
   "outputs": [
    {
     "data": {
      "text/plain": [
       "FITS_rec([('g12d227.013.h5',  -97.92425986),\n",
       "          ('g13d189.018.h5',  -97.96929635),\n",
       "          ('g13d245.013.h5',  -98.36835987),\n",
       "          ('g14d154.021.h5', -100.50419902),\n",
       "          ('g17d141.077.h5',  -97.63134225)],\n",
       "         dtype=(numpy.record, [('file', 'S15'), ('mean', '<f8')]))"
      ]
     },
     "execution_count": 14,
     "metadata": {},
     "output_type": "execute_result"
    }
   ],
   "source": [
    "t"
   ]
  },
  {
   "cell_type": "code",
   "execution_count": null,
   "metadata": {},
   "outputs": [],
   "source": []
  }
 ],
 "metadata": {
  "kernelspec": {
   "display_name": "Python 3",
   "language": "python",
   "name": "python3"
  },
  "language_info": {
   "codemirror_mode": {
    "name": "ipython",
    "version": 3
   },
   "file_extension": ".py",
   "mimetype": "text/x-python",
   "name": "python",
   "nbconvert_exporter": "python",
   "pygments_lexer": "ipython3",
   "version": "3.7.0"
  }
 },
 "nbformat": 4,
 "nbformat_minor": 2
}
